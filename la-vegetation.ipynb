{
 "cells": [
  {
   "cell_type": "markdown",
   "id": "91768371-446b-48d0-8a47-382315cdc1b0",
   "metadata": {},
   "source": [
    "# Vegetation in north-east LA\n",
    "\n",
    "The goal of this script is to create a map showing all of the green space in north-east LA\n",
    "\n",
    "\n",
    "*Resources*\n",
    "\n",
    "* Data Source: \n",
    "* [ml-hub API documentation](https://radiant-mlhub.readthedocs.io/en/latest/getting_started.html)"
   ]
  },
  {
   "cell_type": "code",
   "execution_count": 1,
   "id": "5446939a-8d89-4f26-8b26-7e8086ddd11d",
   "metadata": {},
   "outputs": [],
   "source": [
    "import radiant_mlhub\n",
    "import numpy as np"
   ]
  },
  {
   "cell_type": "code",
   "execution_count": 2,
   "id": "cd9b1f37-be69-4364-90a0-bb582d38c080",
   "metadata": {},
   "outputs": [
    {
     "name": "stdout",
     "output_type": "stream",
     "text": [
      "radiant-mlhub             0.5.5              pyhd8ed1ab_0    conda-forge\n"
     ]
    }
   ],
   "source": [
    "!conda list | grep radiant"
   ]
  },
  {
   "cell_type": "markdown",
   "id": "d8181353-1324-441f-a23a-7f7780f4933f",
   "metadata": {},
   "source": [
    "### Explore the metadata"
   ]
  },
  {
   "cell_type": "code",
   "execution_count": 3,
   "id": "fe57d779-e7d5-46db-90c0-057ad6043d2b",
   "metadata": {},
   "outputs": [
    {
     "name": "stdout",
     "output_type": "stream",
     "text": [
      "{'bbox': {'coordinates': [[[[-125.887708133, 12.576678329],\n",
      "                            [-125.887708133, 59.525479695],\n",
      "                            [-56.859015968, 59.525479695],\n",
      "                            [-56.859015968, 12.576678329],\n",
      "                            [-125.887708133, 12.576678329]]]],\n",
      "          'type': 'MultiPolygon'},\n",
      " 'citation': 'Radiant Earth Foundation (2022) LandCoverNet North America: A '\n",
      "             'Geographically Diverse Land Cover Classification Training '\n",
      "             'Dataset, Version 1.0, Radiant MLHub. '\n",
      "             'https://doi.org/10.34911/rdnt.jx15e8',\n",
      " 'collections': [{'id': 'ref_landcovernet_na_v1_source_sentinel_2',\n",
      "                  'license': '[CC-BY-4.0](https://creativecommons.org/licenses/by/4.0/)',\n",
      "                  'types': ['source_imagery']},\n",
      "                 {'id': 'ref_landcovernet_na_v1_source_sentinel_1',\n",
      "                  'license': '[CC-BY-4.0](https://creativecommons.org/licenses/by/4.0/)',\n",
      "                  'types': ['source_imagery']},\n",
      "                 {'id': 'ref_landcovernet_na_v1_source_landsat_8',\n",
      "                  'license': '[CC-BY-4.0](https://creativecommons.org/licenses/by/4.0/)',\n",
      "                  'types': ['source_imagery']},\n",
      "                 {'id': 'ref_landcovernet_na_v1_labels',\n",
      "                  'license': '[CC-BY-4.0](https://creativecommons.org/licenses/by/4.0/)',\n",
      "                  'types': ['labels']}],\n",
      " 'creator_contact': {'contact': 'ml@radiant.earth',\n",
      "                     'creator': '[Radiant Earth '\n",
      "                                'Foundation](https://radiant.earth/)'},\n",
      " 'date_added': '2022-05-23T18:56:35.840690+00:00',\n",
      " 'date_modified': '2022-05-23T18:56:35.840720+00:00',\n",
      " 'description': 'LandCoverNet is a global annual land cover classification '\n",
      "                'training dataset with labels for the multi-spectral satellite '\n",
      "                'imagery from Sentinel-1, Sentinel-2 and Landsat-8 missions in '\n",
      "                '2018. LandCoverNet North America contains data across North '\n",
      "                'America, which accounts for ~13% of the global dataset. Each '\n",
      "                'pixel is identified as one of the seven land cover classes '\n",
      "                'based on its annual time series. These classes are water, '\n",
      "                'natural bare ground, artificial bare ground, woody '\n",
      "                'vegetation, cultivated vegetation, (semi) natural vegetation, '\n",
      "                'and permanent snow/ice.<br><br>There are a total of 1561 '\n",
      "                'image chips of 256 x 256 pixels in LandCoverNet North America '\n",
      "                'V1.0 spanning 40 tiles. Each image chip contains temporal '\n",
      "                'observations from the following satellite products with an '\n",
      "                'annual class label, all stored in raster format (GeoTIFF '\n",
      "                'files):<br>* Sentinel-1 ground range distance (GRD) with '\n",
      "                'radiometric calibration and orthorectification at 10m spatial '\n",
      "                'resolution<br>* Sentinel-2 surface reflectance product (L2A) '\n",
      "                'at 10m spatial resolution<br>* Landsat-8  surface reflectance '\n",
      "                'product from Collection 2 Level-2<br><br>Radiant Earth '\n",
      "                'Foundation designed and generated this dataset with a grant '\n",
      "                'from [Schmidt Futures](https://schmidtfutures.com/) with '\n",
      "                'additional support from [NASA '\n",
      "                'ACCESS](https://earthdata.nasa.gov/esds/competitive-programs/access/radiant-mlhub), '\n",
      "                '[Microsoft AI for '\n",
      "                'Earth](https://www.microsoft.com/en-us/ai/ai-for-earth) and '\n",
      "                'in kind technology support from '\n",
      "                '[Sinergise](https://www.sinergise.com/).',\n",
      " 'documentation_link': 'https://radiantearth.blob.core.windows.net/mlhub/landcovernet_na/Documentation.pdf',\n",
      " 'doi': '10.34911/rdnt.jx15e8',\n",
      " 'id': 'ref_landcovernet_na_v1',\n",
      " 'publications': None,\n",
      " 'registry': 'https://mlhub.earth/data/ref_landcovernet_na_v1',\n",
      " 'status': 'ready',\n",
      " 'tags': ['segmentation',\n",
      "          'sentinel-1',\n",
      "          'sentinel-2',\n",
      "          'landsat 8',\n",
      "          'land cover'],\n",
      " 'title': 'LandCoverNet North America',\n",
      " 'tools_applications': None,\n",
      " 'tutorials': [{'author_name': 'Kevin Booth',\n",
      "                'author_url': 'https://www.linkedin.com/in/kbgg/',\n",
      "                'title': 'Accessing LandCoverNet through the Radiant MLHub API',\n",
      "                'url': 'https://nbviewer.org/github/radiantearth/mlhub-tutorials/blob/main/notebooks/radiant-mlhub-landcovernet.ipynb'}]}\n"
     ]
    }
   ],
   "source": [
    "from radiant_mlhub import Dataset\n",
    "from radiant_mlhub.client import get_dataset_by_id\n",
    "from pprint import pprint\n",
    "#dataset = get_dataset_by_id('ref_landcovernet_na_v1')\n",
    "#pprint(dataset)"
   ]
  },
  {
   "cell_type": "markdown",
   "id": "2dfa9df3-9876-4312-9c32-8b1f0ecc00db",
   "metadata": {},
   "source": [
    "### Download radiant ML hub labels for southern California"
   ]
  },
  {
   "cell_type": "code",
   "execution_count": 9,
   "id": "b9a03b4d-b973-4326-9a1b-6643a8b7bc45",
   "metadata": {},
   "outputs": [],
   "source": [
    "dataset = Dataset.fetch('ref_landcovernet_na_v1')\n",
    "\n",
    "#bounding box for southern California\n",
    "socal_bbox = [-121.2,32.5,-115.2,35.0]\n",
    "\n",
    "#bounding box for LA\n",
    "#la_bbox = [-118.25422,34.06286,-118.08287,34.27854]\n",
    "\n",
    "#filter for the STAC collection to just get the labels\n",
    "my_filter = dict(\n",
    "    ref_landcovernet_na_v1_labels=['labels', 'documentation'],\n",
    ")\n",
    "\n",
    "#download the labels in the southern california bounding box\n",
    "dataset.download(bbox=socal_bbox,collection_filter=my_filter)"
   ]
  },
  {
   "cell_type": "code",
   "execution_count": 11,
   "id": "bdc93273-df37-47c6-91fd-761409169dd3",
   "metadata": {},
   "outputs": [],
   "source": []
  },
  {
   "cell_type": "code",
   "execution_count": 12,
   "id": "1a710316-1037-4da4-b5bc-ba7fb1e9900c",
   "metadata": {},
   "outputs": [
    {
     "name": "stderr",
     "output_type": "stream",
     "text": [
      "INFO:radiant_mlhub.client.catalog_downloader:unarchive ref_landcovernet_na_v1.tar.gz ...\n",
      "unarchive ref_landcovernet_na_v1.tar.gz: 100%|█| 562974/562974 [00:35<00:00, 156\n",
      "INFO:radiant_mlhub.client.catalog_downloader:create stac asset list (please wait) ...\n",
      "WARNING:radiant_mlhub.client.catalog_downloader:skipping collection ref_landcovernet_na_v1_source_sentinel_1\n",
      "WARNING:radiant_mlhub.client.catalog_downloader:skipping collection ref_landcovernet_na_v1_source_landsat_8\n",
      "WARNING:radiant_mlhub.client.catalog_downloader:skipping collection ref_landcovernet_na_v1_source_sentinel_2\n",
      "INFO:radiant_mlhub.client.catalog_downloader:2422395 unique assets in stac catalog.\n",
      "INFO:radiant_mlhub.client.catalog_downloader:filter by collection ids and asset keys\n",
      "filter by collection ids and asset keys: 2874635022it [00:24, 915035511.28it/s] INFO:radiant_mlhub.client.catalog_downloader:1562 assets after collection filter.\n",
      "filter by collection ids and asset keys: 2874635022it [00:28, 102118198.73it/s]\n",
      "INFO:radiant_mlhub.client.catalog_downloader:filter by bounding box\n",
      "filter by bounding box:   0%|                          | 0/1562 [00:00<?, ?it/s]INFO:radiant_mlhub.client.catalog_downloader:19 assets after bounding box filter.\n",
      "filter by bounding box: 10828it [00:02, 3953.44it/s]                            \n",
      "download assets: 100%|██████████████████████████| 19/19 [00:11<00:00,  1.59it/s]\n",
      "INFO:radiant_mlhub.client.catalog_downloader:assets saved to /home/adam/cloud/gdrive/side_projects/machine_learning/la-vegetation/ref_landcovernet_na_v1\n"
     ]
    }
   ],
   "source": []
  },
  {
   "cell_type": "code",
   "execution_count": null,
   "id": "b1dd6630-e862-41a3-b623-940e531a0e54",
   "metadata": {},
   "outputs": [],
   "source": [
    "la_bbox = [-118.25422,34.06286,-118.08287,34.27854]\n",
    "socal_bbox = [-121.2,32.5,-115.2,35.0]\n",
    "dataset.download()"
   ]
  },
  {
   "cell_type": "code",
   "execution_count": null,
   "id": "8bb41b33-33a9-4dbf-98b5-99e4170ae292",
   "metadata": {},
   "outputs": [],
   "source": [
    "print(f'ID: {dataset.id}')\n",
    "print(f'Title: {dataset.title}')\n",
    "print('Collections:')\n",
    "for collection in dataset.collections:\n",
    "    print(f'* {collection.id}')\n",
    "\n",
    "\n",
    "estimated_dataset_size = dataset.estimated_dataset_size\n",
    "print(\"Catalog Size: \", catalog_size) \n",
    "print(\"Estimated Dataset Size: \", estimated_dataset_size) "
   ]
  },
  {
   "cell_type": "markdown",
   "id": "37900462-7b0e-4236-b992-a2fd2b6d9b62",
   "metadata": {},
   "source": [
    "### Filter by bounding box"
   ]
  },
  {
   "cell_type": "code",
   "execution_count": null,
   "id": "654ae0e9-95d8-4f43-b2e0-be6301ad9842",
   "metadata": {},
   "outputs": [],
   "source": [
    "la_bbox = [-118.25422,34.06286,-118.08287,34.27854]"
   ]
  },
  {
   "cell_type": "code",
   "execution_count": null,
   "id": "6a74550a-0f76-4fe3-bacb-4800aacfec81",
   "metadata": {},
   "outputs": [],
   "source": [
    "sen12floods.download(bbox=my_bbox)"
   ]
  }
 ],
 "metadata": {
  "kernelspec": {
   "display_name": "Python [conda env:la-veg]",
   "language": "python",
   "name": "conda-env-la-veg-py"
  },
  "language_info": {
   "codemirror_mode": {
    "name": "ipython",
    "version": 3
   },
   "file_extension": ".py",
   "mimetype": "text/x-python",
   "name": "python",
   "nbconvert_exporter": "python",
   "pygments_lexer": "ipython3",
   "version": "3.10.12"
  }
 },
 "nbformat": 4,
 "nbformat_minor": 5
}
