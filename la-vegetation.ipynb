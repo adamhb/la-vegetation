{
 "cells": [
  {
   "cell_type": "markdown",
   "id": "91768371-446b-48d0-8a47-382315cdc1b0",
   "metadata": {},
   "source": [
    "# Vegetation in north-east LA\n",
    "\n",
    "The goal of this script is to create a map showing all of the green space in north-east LA\n",
    "\n",
    "\n",
    "*Resources*\n",
    "* [GEE python API](https://developers.google.com/earth-engine/tutorials/community/intro-to-python-api)"
   ]
  },
  {
   "cell_type": "code",
   "execution_count": 9,
   "id": "598d19d8-8250-422d-b85a-f0c60179c777",
   "metadata": {},
   "outputs": [],
   "source": [
    "download_data = False\n",
    "\n",
    "import pprint\n",
    "import geopandas as gpd\n",
    "import rasterio\n",
    "from rasterio import features\n",
    "from rasterio.mask import mask \n",
    "import numpy as np\n",
    "import os\n",
    "from matplotlib import pyplot as plt\n",
    "from matplotlib.patches import Rectangle\n",
    "import pandas as pd\n",
    "import sklearn"
   ]
  },
  {
   "cell_type": "markdown",
   "id": "0628d076",
   "metadata": {},
   "source": [
    "### Set paths to data"
   ]
  },
  {
   "cell_type": "code",
   "execution_count": 2,
   "id": "013b358b",
   "metadata": {},
   "outputs": [],
   "source": [
    "path_to_sr_data = \"data/l9_sr_data_ne_la/l9-sr-07312023-215217.tif\"\n",
    "path_to_training_polygons = \"data/training_polygons/\""
   ]
  },
  {
   "cell_type": "markdown",
   "id": "b23c9fd7-eb2a-496c-bb0c-ca645cb5c110",
   "metadata": {},
   "source": [
    "### Authenticate to Earth Engine"
   ]
  },
  {
   "cell_type": "code",
   "execution_count": 18,
   "id": "1a881af3",
   "metadata": {},
   "outputs": [],
   "source": [
    "import ee\n"
   ]
  },
  {
   "cell_type": "code",
   "execution_count": 17,
   "id": "0a99a0f7-3cc8-42f7-8a80-9fb6fcef1e4c",
   "metadata": {},
   "outputs": [
    {
     "data": {
      "text/html": [
       "<p>To authorize access needed by Earth Engine, open the following\n",
       "        URL in a web browser and follow the instructions:</p>\n",
       "        <p><a href=https://code.earthengine.google.com/client-auth?scopes=https%3A//www.googleapis.com/auth/earthengine%20https%3A//www.googleapis.com/auth/devstorage.full_control&request_id=uBLHSVv5c121OtJgc8U8fKAPnp_pSV4W4251qGVGeAQ&tc=0f-wY7ReLRP4z9_cbn15KnE3JcMHZfjR3MxuQ2nUqNI&cc=P5HA7S_nIaTiMEcYxkyhIylv_2VdjsA8Bmj-PG3Z5XA>https://code.earthengine.google.com/client-auth?scopes=https%3A//www.googleapis.com/auth/earthengine%20https%3A//www.googleapis.com/auth/devstorage.full_control&request_id=uBLHSVv5c121OtJgc8U8fKAPnp_pSV4W4251qGVGeAQ&tc=0f-wY7ReLRP4z9_cbn15KnE3JcMHZfjR3MxuQ2nUqNI&cc=P5HA7S_nIaTiMEcYxkyhIylv_2VdjsA8Bmj-PG3Z5XA</a></p>\n",
       "        <p>The authorization workflow will generate a code, which you should paste in the box below.</p>\n",
       "        "
      ],
      "text/plain": [
       "<IPython.core.display.HTML object>"
      ]
     },
     "metadata": {},
     "output_type": "display_data"
    },
    {
     "name": "stdout",
     "output_type": "stream",
     "text": [
      "Enter verification code: 4/1Adeu5BXU8OaAYkX6PVaZR-KJvJGR_hWqTRCVY1AJln7DHOxvrYweZc7jdP8\n",
      "\n",
      "Successfully saved authorization token.\n"
     ]
    }
   ],
   "source": [
    "import ee\n",
    "\n",
    "# Trigger the authentication flow.\n",
    "ee.Authenticate()\n",
    "\n",
    "# Initialize the library.\n",
    "ee.Initialize()"
   ]
  },
  {
   "cell_type": "markdown",
   "id": "b7592181-bba4-47e6-a766-a718ebd90cf0",
   "metadata": {},
   "source": [
    "### Functions"
   ]
  },
  {
   "cell_type": "code",
   "execution_count": 19,
   "id": "e70cd855-4666-46f7-a14b-25fd2c273f77",
   "metadata": {},
   "outputs": [],
   "source": [
    "def addQualityBands(image,nir_band='SR_B5',red_band='SR_B4'):\n",
    "    \n",
    "    '''\n",
    "    Adds NDVI as a band to an image\n",
    "\n",
    "    image: earth engine image\n",
    "    nir_band: the name of the nir band (str)\n",
    "    red_band: the name of the red band (str)\n",
    "    \n",
    "    returns: earth engine image with NDVI band added as \"nd\"\n",
    "    '''   \n",
    "    new_image = image.addBands(image.normalizedDifference([nir_band, red_band])).\\\n",
    "    addBands(image.metadata('system:time_start'))\n",
    "    return new_image\n",
    "\n",
    "\n",
    "def applyL9ScaleFactors(image):\n",
    "\n",
    "    '''Scales Landsat 9 Surface Reflectance and Surface Temp Imagery'''\n",
    "    \n",
    "    opticalBands = image.select('SR_B.').multiply(0.0000275).add(-0.2)\n",
    "    thermalBands = image.select('ST_B.*').multiply(0.00341802).add(149.0)\n",
    "    \n",
    "    return image.addBands(opticalBands, None, True).\\\n",
    "                 addBands(thermalBands, None, True)\n",
    "\n",
    "def crop_raster_to_poly(raster,poly):\n",
    "    '''\n",
    "    Crop a raster to the extent of a polygon and extract values into an numpy array.\n",
    "    \n",
    "    Inputs: Raster (DatasetReader Object e.g. from rasterio), shapely polygon (shapely.geometry.polygon.Polygon)\n",
    "    \n",
    "    Outputs: Numpy array with shape (n bands, pixel height, pixel width)\n",
    "    '''\n",
    "    \n",
    "    geo = poly.__geo_interface__\n",
    "    out_image, out_transform = mask(raster, [geo], crop=True)\n",
    "    return out_image\n",
    "    \n",
    "def spatial_array_to_records(sa):\n",
    "    '''\n",
    "    Reshape a spatial array from shape (n bands,x,y) to array of shape(pixel, n_bands)\n",
    "    \n",
    "    Input: numpy array with shape (n_bands,x,y)\n",
    "    '''\n",
    "    reshaped_image = sa.reshape(sa.shape[0], sa.shape[1] * sa.shape[2]).T\n",
    "    return reshaped_image"
   ]
  },
  {
   "cell_type": "markdown",
   "id": "378595b0-99eb-4266-81ea-bc3c7b6848a7",
   "metadata": {},
   "source": [
    "### Define Study Area"
   ]
  },
  {
   "cell_type": "code",
   "execution_count": 20,
   "id": "e0866773-1c8f-48a3-a571-90487593ab67",
   "metadata": {},
   "outputs": [],
   "source": [
    "#This polygon contains north-east LA\n",
    "la = ee.Geometry.Polygon(\n",
    "        [[[-118.35161117644401, 34.24077194860868],#upper left\n",
    "          [-118.35161117644401, 34.02365585890141],#lower left\n",
    "          [-118.00348190398307, 34.02365585890141],#lower right\n",
    "          [-118.00348190398307, 34.24077194860868]]], None, False);#upper right"
   ]
  },
  {
   "cell_type": "markdown",
   "id": "a71d4338-a357-4fe4-b7b6-73d203b2c972",
   "metadata": {},
   "source": [
    "### Get Landsat 9 data in north-east LA\n",
    "\n",
    "The following code filters landsat 9 surface reflectance data to north-east la (`la`), filters to get just images during the growing season, then scales the reflectance values to be true reflectance, then adds NDVI to the collection (via the `addQualityBands` function), then creates a quality mosaic based on ndvi, and selects the surface reflectance bands."
   ]
  },
  {
   "cell_type": "code",
   "execution_count": 30,
   "id": "aad16d82-3057-4435-bf43-c06a3ea724b1",
   "metadata": {},
   "outputs": [],
   "source": [
    "l9 = ee.ImageCollection(\"LANDSAT/LC09/C02/T1_L2\").\\\n",
    "filterBounds(la).\\\n",
    "filterDate('2022-02-01','2022-06-01').\\\n",
    "map(applyL9ScaleFactors).\\\n",
    "map(addQualityBands).\\\n",
    "qualityMosaic('nd').\\\n",
    "select(['SR_B.'])"
   ]
  },
  {
   "cell_type": "markdown",
   "id": "77002ef9-c14f-4c83-a97c-747b48963197",
   "metadata": {},
   "source": [
    "### Define the visualization parameters\n",
    "\n",
    "True color shows a true color image in RGB\n",
    "\n",
    "False color composite put the NIR surface reflectance into the red channel so that areas of active photosynthesis appear red."
   ]
  },
  {
   "cell_type": "code",
   "execution_count": 31,
   "id": "f6a78822-c490-4ff9-b561-a6ce4b1e85b3",
   "metadata": {},
   "outputs": [],
   "source": [
    "# True color viz params\n",
    "vizParams_true_color = {\n",
    "  'bands': ['SR_B4', 'SR_B3', 'SR_B2'],\n",
    "  'min': 0.0,\n",
    "  'max': 0.3,\n",
    "  'dimensions': 512, \n",
    "  'region': la,\n",
    "}\n",
    "\n",
    "# False color composite\n",
    "vizParams_false_color = {\n",
    "  'bands': ['SR_B5', 'SR_B4', 'SR_B3'],\n",
    "  'min': 0.0,\n",
    "  'max': 0.3,\n",
    "  'dimensions': 512, \n",
    "  'region': la,\n",
    "}"
   ]
  },
  {
   "cell_type": "markdown",
   "id": "3a84b5fd-0fa5-4e2c-af50-6e186f7669b7",
   "metadata": {},
   "source": [
    "### View surface reflectance in north-east LA\n",
    "\n",
    "This uses false color image vegetation parameters to make vegetation appear red."
   ]
  },
  {
   "cell_type": "code",
   "execution_count": 32,
   "id": "fdc55ba5-1c72-4b9c-8ad8-9e29a2d2d5eb",
   "metadata": {},
   "outputs": [
    {
     "name": "stdout",
     "output_type": "stream",
     "text": [
      "\n",
      "Please wait while the thumbnail loads, it may take a moment...\n"
     ]
    },
    {
     "data": {
      "text/html": [
       "<img src=\"https://earthengine.googleapis.com/v1/projects/earthengine-legacy/thumbnails/53934a1f4288905de7a25391035335ef-33e8554b8e036e91661ff352ee5c9d38:getPixels\"/>"
      ],
      "text/plain": [
       "<IPython.core.display.Image object>"
      ]
     },
     "execution_count": 32,
     "metadata": {},
     "output_type": "execute_result"
    }
   ],
   "source": [
    "from IPython.display import Image\n",
    "\n",
    "# Create a URL to the styled image\n",
    "url = l9.getThumbUrl(vizParams_false_color)\n",
    "#print(url)\n",
    "\n",
    "# Display the thumbnail\n",
    "print('\\nPlease wait while the thumbnail loads, it may take a moment...')\n",
    "Image(url=url)"
   ]
  },
  {
   "cell_type": "markdown",
   "id": "3f9731c6-31eb-4d0e-aea6-c5e50527af16",
   "metadata": {},
   "source": [
    "### Download Landsat 9 surface reflectance data"
   ]
  },
  {
   "cell_type": "code",
   "execution_count": 33,
   "id": "03bde90f-2bc8-4033-90c6-a1cdcbaf2c01",
   "metadata": {},
   "outputs": [],
   "source": [
    "if download_data == True:\n",
    "    from datetime import datetime\n",
    "    now = datetime.now() # datetime object containing current date and time\n",
    "    print(\"Downloading data at\", now)\n",
    "    dt_string = now.strftime(\"%m%d%Y-%H%M%S\")\n",
    "    file_name = 'l9-sr-' + dt_string\n",
    "    print(\"File name:\",file_name)\n",
    "    task = ee.batch.Export.image.toDrive(image=l9,\n",
    "                                         description='l9-sr',\n",
    "                                         scale=30,\n",
    "                                         region=la,\n",
    "                                         folder=\"l9_sr_data_ne_la\",\n",
    "                                         fileNamePrefix=file_name,\n",
    "                                         crs='EPSG:4326',\n",
    "                                         fileFormat='GeoTIFF')\n",
    "    task.start()\n",
    "    #task.status()"
   ]
  },
  {
   "cell_type": "markdown",
   "id": "f472b1ab-b016-4ea9-a740-ada42f5ae250",
   "metadata": {},
   "source": [
    "### Import and view attributes of the surface reflectance data"
   ]
  },
  {
   "cell_type": "code",
   "execution_count": 34,
   "id": "d5a434ab",
   "metadata": {},
   "outputs": [
    {
     "name": "stdout",
     "output_type": "stream",
     "text": [
      "Number of bands: 7\n",
      "\n",
      "Data types:\n",
      "{1: 'float64', 2: 'float64', 3: 'float64', 4: 'float64', 5: 'float64', 6: 'float64', 7: 'float64'}\n",
      "\n",
      "\n",
      "BoundingBox(left=-118.3517810413492, bottom=34.02342189144165, right=-118.00332454263923, top=34.24090402172698)\n",
      "\n",
      "\n",
      "| 0.00, 0.00,-118.35|\n",
      "| 0.00,-0.00, 34.24|\n",
      "| 0.00, 0.00, 1.00|\n",
      "\n",
      "\n",
      "EPSG:4326\n"
     ]
    }
   ],
   "source": [
    "#Import raster data and print some information\n",
    "sr_data = rasterio.open(path_to_sr_data)\n",
    "print(\"Number of bands:\",sr_data.count)\n",
    "print(\"\\nData types:\")\n",
    "print({i: dtype for i, dtype in zip(sr_data.indexes, sr_data.dtypes)})\n",
    "print('\\n')\n",
    "print(sr_data.bounds)\n",
    "print('\\n')\n",
    "print(sr_data.transform)\n",
    "print('\\n')\n",
    "print(sr_data.crs)"
   ]
  },
  {
   "cell_type": "code",
   "execution_count": 35,
   "id": "089eedbf",
   "metadata": {},
   "outputs": [
    {
     "data": {
      "text/plain": [
       "[{'min': -0.199725,\n",
       "  'mean': 0.05757064716024039,\n",
       "  'median': 0.05217499999999997,\n",
       "  'max': 0.98943},\n",
       " {'min': -0.19912000000000002,\n",
       "  'mean': 0.06670758027928479,\n",
       "  'median': 0.060425000000000006,\n",
       "  'max': 1.0018600000000002},\n",
       " {'min': -0.0814475,\n",
       "  'mean': 0.0908528512071961,\n",
       "  'median': 0.08514749999999999,\n",
       "  'max': 0.9737825},\n",
       " {'min': 7.499999999993623e-06,\n",
       "  'mean': 0.09414803314434503,\n",
       "  'median': 0.0875125,\n",
       "  'max': 1.004555},\n",
       " {'min': 0.0003650000000000042,\n",
       "  'mean': 0.21420123990010073,\n",
       "  'median': 0.21439750000000002,\n",
       "  'max': 1.4482400000000002},\n",
       " {'min': -0.002714999999999995,\n",
       "  'mean': 0.16585749507643377,\n",
       "  'median': 0.16536499999999998,\n",
       "  'max': 1.5999850000000002},\n",
       " {'min': 0.0012725000000000097,\n",
       "  'mean': 0.12627333315843292,\n",
       "  'median': 0.1257375,\n",
       "  'max': 1.5999850000000002}]"
      ]
     },
     "execution_count": 35,
     "metadata": {},
     "output_type": "execute_result"
    }
   ],
   "source": [
    "# Read all bands\n",
    "sr_array = sr_data.read()\n",
    "\n",
    "# Calculate statistics for each band\n",
    "stats = []\n",
    "for band in sr_array:\n",
    "    stats.append({\n",
    "        'min': band.min(),\n",
    "        'mean': band.mean(),\n",
    "        'median': np.median(band),\n",
    "        'max': band.max()})\n",
    "\n",
    "# Show stats for each channel\n",
    "stats"
   ]
  },
  {
   "cell_type": "markdown",
   "id": "92e990ea",
   "metadata": {},
   "source": [
    "### Import and reproject the training polygons"
   ]
  },
  {
   "cell_type": "code",
   "execution_count": 36,
   "id": "2fcefabc-5803-4aad-a624-ea9c4cec6fb5",
   "metadata": {},
   "outputs": [],
   "source": [
    "#import training polygons and reproject to EPSG 4326\n",
    "urban_cover = gpd.read_file(os.path.join(path_to_training_polygons,\"urban_ne_la\",\"urban_NE_LA.shp\"))\n",
    "urban_cover = urban_cover.to_crs(\"EPSG:4326\")\n",
    "\n",
    "veg_cover = gpd.read_file(os.path.join(path_to_training_polygons,\"vegetation_ne_la\",\"vegetation_NE_LA.shp\"))\n",
    "veg_cover = veg_cover.to_crs(\"EPSG:4326\")"
   ]
  },
  {
   "cell_type": "code",
   "execution_count": 37,
   "id": "ad01d433",
   "metadata": {},
   "outputs": [
    {
     "name": "stderr",
     "output_type": "stream",
     "text": [
      "/tmp/ipykernel_21950/568653549.py:1: UserWarning: Geometry is in a geographic CRS. Results from 'area' are likely incorrect. Use 'GeoSeries.to_crs()' to re-project geometries to a projected CRS before this operation.\n",
      "\n",
      "  veg_cover.area\n"
     ]
    },
    {
     "data": {
      "text/plain": [
       "0     0.000002\n",
       "1     0.000003\n",
       "2     0.000004\n",
       "3     0.000002\n",
       "4     0.000007\n",
       "5     0.000007\n",
       "6     0.000003\n",
       "7     0.000004\n",
       "8     0.000019\n",
       "9     0.000020\n",
       "10    0.000017\n",
       "11    0.000021\n",
       "12    0.000025\n",
       "13    0.000011\n",
       "14    0.000021\n",
       "15    0.000014\n",
       "16    0.000008\n",
       "17    0.000569\n",
       "dtype: float64"
      ]
     },
     "execution_count": 37,
     "metadata": {},
     "output_type": "execute_result"
    }
   ],
   "source": [
    "veg_cover.area"
   ]
  },
  {
   "cell_type": "markdown",
   "id": "48c04967",
   "metadata": {},
   "source": [
    "### Visualize the training polygons"
   ]
  },
  {
   "cell_type": "code",
   "execution_count": 38,
   "id": "3fd12e4c",
   "metadata": {},
   "outputs": [
    {
     "data": {
      "image/png": "[encoded data removed]",
      "text/plain": [
       "<Figure size 640x480 with 1 Axes>"
      ]
     },
     "metadata": {},
     "output_type": "display_data"
    }
   ],
   "source": [
    "#define the bounds of our geotiff\n",
    "bounds = sr_data.bounds\n",
    "\n",
    "fig, ax = plt.subplots()\n",
    "\n",
    "# Create a Rectangle patch using bounding box coordinates from the geotiff\n",
    "rect = Rectangle((bounds.left, bounds.bottom), bounds.right - bounds.left, bounds.top - bounds.bottom,\n",
    "                 linewidth=1, edgecolor='r', facecolor='none')\n",
    "\n",
    "# Add the patch to the Axes\n",
    "ax.add_patch(rect)\n",
    "\n",
    "# Set plot limits to fit the bounding box\n",
    "ax.set_xlim(bounds.left, bounds.right)\n",
    "ax.set_ylim(bounds.bottom, bounds.top)\n",
    "\n",
    "veg_cover.plot(ax = ax, color = \"green\")\n",
    "urban_cover.plot(ax = ax, color = \"gray\")\n",
    "plt.show()"
   ]
  },
  {
   "cell_type": "markdown",
   "id": "d73f75d3",
   "metadata": {},
   "source": [
    "### Extract surface reflectance data from geotiff to numpy arrays"
   ]
  },
  {
   "cell_type": "code",
   "execution_count": 39,
   "id": "7dae1d4d",
   "metadata": {},
   "outputs": [],
   "source": [
    "# Get the data in vegetated training polygons\n",
    "X_veg = np.array([]).reshape(0,7)\n",
    "\n",
    "for i in range(len(veg_cover)):\n",
    "    tmp = spatial_array_to_records((crop_raster_to_poly(sr_data,veg_cover.iloc[i].geometry)))\n",
    "    X_veg = np.concatenate((X_veg,tmp))\n",
    "    \n",
    "# Get the data in urban training polygons\n",
    "X_urb = np.array([]).reshape(0,7)\n",
    "\n",
    "for i in range(len(urban_cover)):\n",
    "    tmp = spatial_array_to_records((crop_raster_to_poly(sr_data,urban_cover.iloc[i].geometry)))\n",
    "    X_urb = np.concatenate((X_urb,tmp))"
   ]
  },
  {
   "cell_type": "markdown",
   "id": "7586dc7a",
   "metadata": {},
   "source": [
    "### Clean and label the data\n",
    "\n",
    " Here we convert the data to a dataframe and remove pixels with zero or negative values for reflectance.\n",
    " We remove these pixels as a quality control because negative or zero surface reflectance\n",
    " indicates spurious or missing data. We also remove pixels with reflectance values > 1 for the same reason."
   ]
  },
  {
   "cell_type": "code",
   "execution_count": 69,
   "id": "bd02dcee",
   "metadata": {},
   "outputs": [],
   "source": [
    "# ulta-blue, blue, green, red, near infra-red, short-wave infrared 1, short-wave infrared 2\n",
    "band_names = [\"ub\",\"b\",\"g\",\"r\",\"nir\",\"swir1\",\"swir2\"]"
   ]
  },
  {
   "cell_type": "code",
   "execution_count": 66,
   "id": "34ad6b61",
   "metadata": {},
   "outputs": [],
   "source": [
    "def remove_spurious_reflectance(df):\n",
    "    return df.loc[(df > 0.00001).all(axis=1) & (df < 1.0).all(axis=1)]\n",
    "\n",
    "# Add labels to the vegetation cover data\n",
    "veg = pd.DataFrame(data = X_veg, columns=band_names)\n",
    "veg = remove_spurious_reflectance(veg)\n",
    "veg['label'] = True\n",
    "\n",
    "\n",
    "# Add labels to the urban cover data\n",
    "urb = pd.DataFrame(data = X_urb, columns=band_names)\n",
    "urb = remove_spurious_reflectance(urb)\n",
    "urb['label'] = False\n",
    "\n",
    "df = pd.concat([veg,urb])"
   ]
  },
  {
   "cell_type": "markdown",
   "id": "d48be6aa",
   "metadata": {},
   "source": [
    "### Explore data\n",
    "\n",
    "We have more urban labels than vegetation labels, so the data area skewed"
   ]
  },
  {
   "cell_type": "code",
   "execution_count": 67,
   "id": "2ab358c1",
   "metadata": {},
   "outputs": [
    {
     "name": "stdout",
     "output_type": "stream",
     "text": [
      "label\n",
      "False    16661\n",
      "True      9698\n",
      "Name: count, dtype: int64\n",
      "\n",
      "\n",
      "<class 'pandas.core.frame.DataFrame'>\n",
      "Index: 26359 entries, 0 to 17556\n",
      "Data columns (total 8 columns):\n",
      " #   Column  Non-Null Count  Dtype  \n",
      "---  ------  --------------  -----  \n",
      " 0   ub      26359 non-null  float64\n",
      " 1   b       26359 non-null  float64\n",
      " 2   g       26359 non-null  float64\n",
      " 3   r       26359 non-null  float64\n",
      " 4   nir     26359 non-null  float64\n",
      " 5   swir1   26359 non-null  float64\n",
      " 6   swir2   26359 non-null  float64\n",
      " 7   label   26359 non-null  bool   \n",
      "dtypes: bool(1), float64(7)\n",
      "memory usage: 1.6 MB\n",
      "None\n",
      "\n",
      "\n",
      "                 ub             b             g             r           nir  \\\n",
      "count  26359.000000  26359.000000  26359.000000  26359.000000  26359.000000   \n",
      "mean       0.067207      0.077903      0.099428      0.104948      0.202860   \n",
      "std        0.055741      0.061651      0.065901      0.074601      0.072065   \n",
      "min        0.000062      0.000585      0.002895      0.000035      0.001217   \n",
      "25%        0.031137      0.035043      0.052065      0.048490      0.161295   \n",
      "50%        0.055530      0.066145      0.088860      0.094828      0.202655   \n",
      "75%        0.086880      0.101977      0.127883      0.140313      0.238872   \n",
      "max        0.986735      0.997460      0.960555      0.988193      0.987038   \n",
      "\n",
      "              swir1         swir2  \n",
      "count  26359.000000  26359.000000  \n",
      "mean       0.165084      0.126368  \n",
      "std        0.068464      0.061868  \n",
      "min        0.002950      0.004518  \n",
      "25%        0.126370      0.083896  \n",
      "50%        0.160250      0.124582  \n",
      "75%        0.195450      0.159109  \n",
      "max        0.760905      0.772703  \n"
     ]
    }
   ],
   "source": [
    "print(df['label'].value_counts()) #check evenness of labels\n",
    "print('\\n')\n",
    "print(df.info())\n",
    "print('\\n')\n",
    "print(df.describe())"
   ]
  },
  {
   "cell_type": "markdown",
   "id": "dc240fe1",
   "metadata": {},
   "source": [
    "### Histogram\n",
    "\n",
    "Most bands have tail-heavy distributions"
   ]
  },
  {
   "cell_type": "code",
   "execution_count": 68,
   "id": "e864f690",
   "metadata": {},
   "outputs": [
    {
     "data": {
      "image/png": "[encoded data removed]",
      "text/plain": [
       "<Figure size 2000x1500 with 9 Axes>"
      ]
     },
     "metadata": {},
     "output_type": "display_data"
    }
   ],
   "source": [
    "df.hist(bins=50, figsize=(20,15))\n",
    "plt.show()"
   ]
  },
  {
   "cell_type": "markdown",
   "id": "12d0f8de",
   "metadata": {},
   "source": [
    "### Shuffle and split the data into training and test sets while maintaining the same ratio of veg to urban in both sets"
   ]
  },
  {
   "cell_type": "code",
   "execution_count": 70,
   "id": "573658bb",
   "metadata": {},
   "outputs": [],
   "source": [
    "from sklearn.model_selection import StratifiedShuffleSplit\n",
    "\n",
    "split = StratifiedShuffleSplit(n_splits=1, test_size = 0.1, random_state = 42)\n",
    "\n",
    "for train_index, test_index in split.split(df, df['label']):\n",
    "    train_set = df.iloc[train_index]\n",
    "    test_set = df.iloc[test_index]"
   ]
  },
  {
   "cell_type": "markdown",
   "id": "1322acc8",
   "metadata": {},
   "source": [
    "### Separate the training data and training labels"
   ]
  },
  {
   "cell_type": "code",
   "execution_count": 71,
   "id": "08184740",
   "metadata": {},
   "outputs": [],
   "source": [
    "train_X = train_set.drop(\"label\", axis = 1)\n",
    "train_y = train_set[\"label\"].copy()"
   ]
  },
  {
   "cell_type": "markdown",
   "id": "aa190786",
   "metadata": {},
   "source": [
    "### Set up a data transformation pipeline to prepare the data for machine learning"
   ]
  },
  {
   "cell_type": "code",
   "execution_count": 72,
   "id": "8d6e500f",
   "metadata": {},
   "outputs": [],
   "source": [
    "from sklearn.pipeline import Pipeline\n",
    "from sklearn.preprocessing import StandardScaler\n",
    "from sklearn.base import BaseEstimator, TransformerMixin\n",
    "\n",
    "\n",
    "class addNDVI(BaseEstimator, TransformerMixin):\n",
    "    def fit(self, X, y=None):\n",
    "        return self\n",
    "\n",
    "    def transform(self, X, y=None):\n",
    "        \n",
    "        X[\"ndvi\"] = (X['nir'] - X['r']) / (X['nir'] + X['r'])\n",
    "        return X\n",
    "    \n",
    "transformation_pipeline = Pipeline([\n",
    "        ('add_ndvi', addNDVI()),\n",
    "        ('std_scaler', StandardScaler()),\n",
    "    ])\n",
    "\n",
    "#apply transformation pipeline to training data\n",
    "X = transformation_pipeline.fit_transform(train_X)"
   ]
  },
  {
   "cell_type": "markdown",
   "id": "5c99e512",
   "metadata": {},
   "source": [
    "### Naive classifier\n",
    "\n",
    "Use this to compare to other models"
   ]
  },
  {
   "cell_type": "code",
   "execution_count": 74,
   "id": "4b422bcf",
   "metadata": {},
   "outputs": [],
   "source": [
    "from sklearn.base import BaseEstimator\n",
    "class AlwaysUrban(BaseEstimator):\n",
    "    def fit(self, X, y=None):\n",
    "        pass\n",
    "    def predict(self, X):\n",
    "        \n",
    "        #always predicts false (0)\n",
    "        return np.zeros((len(X), 1), dtype=bool)"
   ]
  },
  {
   "cell_type": "markdown",
   "id": "94212313",
   "metadata": {},
   "source": [
    "### Train and test a Decision Tree\n",
    "\n",
    "We see that the naive classifier scores roughly equal to the proportion of pixels that are urban, while the Decision tree scores above 98% accuracy."
   ]
  },
  {
   "cell_type": "code",
   "execution_count": 76,
   "id": "49a87c85",
   "metadata": {},
   "outputs": [
    {
     "name": "stdout",
     "output_type": "stream",
     "text": [
      "Naive: [0.62789718 0.63716814 0.61862621 0.64460371 0.63279933 0.63617201\n",
      " 0.62984823 0.6193086  0.63111298 0.64333895]\n",
      "Decision Tree: [0.98482933 0.98482933 0.98820059 0.9856661  0.98482293 0.98482293\n",
      " 0.98440135 0.9856661  0.98524452 0.98397976]\n"
     ]
    }
   ],
   "source": [
    "from sklearn.tree import DecisionTreeClassifier\n",
    "from sklearn.model_selection import cross_val_score\n",
    "\n",
    "# Naive classifier\n",
    "always_urban = AlwaysUrban()\n",
    "\n",
    "# decision tree classifier\n",
    "tree = DecisionTreeClassifier()\n",
    "\n",
    "# test naive classifier\n",
    "naive_scores = cross_val_score(always_urban, X, train_y, cv= 10, scoring=\"accuracy\")\n",
    "print(\"Naive:\",naive_scores)\n",
    "\n",
    "# test regression tree\n",
    "tree_scores = cross_val_score(tree, X, train_y, cv= 10, scoring=\"accuracy\")\n",
    "print(\"Decision Tree:\",tree_scores)\n",
    "\n",
    "\n",
    "#Test a linear regression model\n",
    "#some_data = train_X.iloc[:5]\n",
    "#some_labels = train_y.iloc[:5]\n",
    "\n",
    "#some_prepared_data = transformation_pipeline.fit_transform(some_data)\n",
    "\n",
    "#print(\"Predictions\",lin_reg.predict(some_prepared_data))\n",
    "#print(\"Labels\",list(some_labels))"
   ]
  },
  {
   "cell_type": "markdown",
   "id": "1c0266bc",
   "metadata": {},
   "source": [
    "### Make predictions with the decision tree"
   ]
  },
  {
   "cell_type": "code",
   "execution_count": 77,
   "id": "f57b4b37",
   "metadata": {},
   "outputs": [
    {
     "name": "stdout",
     "output_type": "stream",
     "text": [
      "Predictions [False  True False False  True]\n",
      "Labels [False, True, False, False, True]\n"
     ]
    },
    {
     "name": "stderr",
     "output_type": "stream",
     "text": [
      "/tmp/ipykernel_21950/1094695361.py:12: SettingWithCopyWarning: \n",
      "A value is trying to be set on a copy of a slice from a DataFrame.\n",
      "Try using .loc[row_indexer,col_indexer] = value instead\n",
      "\n",
      "See the caveats in the documentation: https://pandas.pydata.org/pandas-docs/stable/user_guide/indexing.html#returning-a-view-versus-a-copy\n",
      "  X[\"ndvi\"] = (X['nir'] - X['r']) / (X['nir'] + X['r'])\n"
     ]
    }
   ],
   "source": [
    "some_data = train_X.iloc[:5]\n",
    "some_labels = train_y.iloc[:5]\n",
    "some_prepared_data = transformation_pipeline.fit_transform(some_data)\n",
    "tree.fit(X,train_y)\n",
    "\n",
    "print(\"Predictions\",tree.predict(some_prepared_data))\n",
    "print(\"Labels\",list(some_labels))"
   ]
  },
  {
   "cell_type": "markdown",
   "id": "e0b24917",
   "metadata": {},
   "source": [
    "### Train and test a random forest"
   ]
  },
  {
   "cell_type": "code",
   "execution_count": 78,
   "id": "393270a6",
   "metadata": {},
   "outputs": [
    {
     "name": "stdout",
     "output_type": "stream",
     "text": [
      "[0.99157185 0.98735777 0.99030763 0.99198988 0.9886172  0.99030354\n",
      " 0.99030354 0.9915683  0.99241147 0.99241147]\n"
     ]
    }
   ],
   "source": [
    "from sklearn.ensemble import RandomForestClassifier\n",
    "\n",
    "forest = RandomForestClassifier()\n",
    "\n",
    "forest_scores = cross_val_score(forest,X,train_y,cv=10,scoring=\"accuracy\")\n",
    "\n",
    "print(forest_scores)"
   ]
  },
  {
   "cell_type": "markdown",
   "id": "55ec00e8",
   "metadata": {},
   "source": [
    "The random forest performs better than the decision tree."
   ]
  },
  {
   "cell_type": "markdown",
   "id": "3c4f84e8",
   "metadata": {},
   "source": [
    "### Optimize the parameters of the random forest using grid search"
   ]
  },
  {
   "cell_type": "markdown",
   "id": "069cf31a",
   "metadata": {},
   "source": [
    "### pick up here with training the model on the full training data (assuming cross val doesn't do this) and then looking into its attributes (hyper-parameters) and then using grid search to find more optimal parameters"
   ]
  },
  {
   "cell_type": "code",
   "execution_count": null,
   "id": "f6d7804d",
   "metadata": {},
   "outputs": [],
   "source": [
    "#returns a dict with the geo info. this could be useful for masking the raster\n",
    "#a = veg_cover.__geo_interface__\n",
    "#pprint.pprint(a)"
   ]
  },
  {
   "cell_type": "code",
   "execution_count": null,
   "id": "27182024",
   "metadata": {},
   "outputs": [],
   "source": [
    "# labels = np.zeros(raster.shape, dtype=np.uint8)\n",
    "# shapefile = shapefile.to_crs(raster.crs.data)\n",
    "# for _, row in shapefile.iterrows():\n",
    "#     image = features.rasterize([(row.geometry, row.label)], out_shape=raster.shape, transform=raster.transform, fill=0, all_touched=True, dtype=np.uint8)\n",
    "#     labels = np.maximum(labels, image)\n",
    "# combined = np.stack((raster.read(1), labels))"
   ]
  },
  {
   "cell_type": "code",
   "execution_count": null,
   "id": "1e3f0bb9",
   "metadata": {},
   "outputs": [],
   "source": []
  }
 ],
 "metadata": {
  "kernelspec": {
   "display_name": "Python [conda env:la-veg]",
   "language": "python",
   "name": "conda-env-la-veg-py"
  },
  "language_info": {
   "codemirror_mode": {
    "name": "ipython",
    "version": 3
   },
   "file_extension": ".py",
   "mimetype": "text/x-python",
   "name": "python",
   "nbconvert_exporter": "python",
   "pygments_lexer": "ipython3",
   "version": "3.10.12"
  },
  "toc": {
   "base_numbering": 1,
   "nav_menu": {},
   "number_sections": true,
   "sideBar": true,
   "skip_h1_title": false,
   "title_cell": "Table of Contents",
   "title_sidebar": "Contents",
   "toc_cell": false,
   "toc_position": {
    "height": "calc(100% - 180px)",
    "left": "10px",
    "top": "150px",
    "width": "384px"
   },
   "toc_section_display": true,
   "toc_window_display": true
  }
 },
 "nbformat": 4,
 "nbformat_minor": 5
}
